{
 "cells": [
  {
   "cell_type": "code",
   "execution_count": null,
   "metadata": {},
   "outputs": [
    {
     "name": "stdout",
     "output_type": "stream",
     "text": [
      "WARNING:tensorflow:\n",
      "The TensorFlow contrib module will not be included in TensorFlow 2.0.\n",
      "For more information, please see:\n",
      "  * https://github.com/tensorflow/community/blob/master/rfcs/20180907-contrib-sunset.md\n",
      "  * https://github.com/tensorflow/addons\n",
      "  * https://github.com/tensorflow/io (for I/O related ops)\n",
      "If you depend on functionality not listed there, please file an issue.\n",
      "\n",
      "Downloading 124M model...\n"
     ]
    },
    {
     "name": "stderr",
     "output_type": "stream",
     "text": [
      "Fetching checkpoint: 1.05Mit [00:00, 356Mit/s]                                                      \n",
      "Fetching encoder.json: 1.05Mit [00:00, 11.2Mit/s]                                                   \n",
      "Fetching hparams.json: 1.05Mit [00:00, 146Mit/s]                                                    \n",
      "Fetching model.ckpt.data-00000-of-00001: 498Mit [00:14, 34.3Mit/s]                                  \n",
      "Fetching model.ckpt.index: 1.05Mit [00:00, 215Mit/s]                                                \n",
      "Fetching model.ckpt.meta: 1.05Mit [00:00, 11.2Mit/s]                                                \n",
      "Fetching vocab.bpe: 1.05Mit [00:00, 13.3Mit/s]                                                      \n"
     ]
    },
    {
     "name": "stdout",
     "output_type": "stream",
     "text": [
      "WARNING:tensorflow:From /Users/qweliantanner/.local/share/virtualenvs/chatume-fmMkmT_X/lib/python3.7/site-packages/gpt_2_simple/src/sample.py:17: where (from tensorflow.python.ops.array_ops) is deprecated and will be removed in a future version.\n",
      "Instructions for updating:\n",
      "Use tf.where in 2.0, which has the same broadcast rule as np.where\n",
      "Loading checkpoint models/124M/model.ckpt\n",
      "INFO:tensorflow:Restoring parameters from models/124M/model.ckpt\n"
     ]
    },
    {
     "name": "stderr",
     "output_type": "stream",
     "text": [
      "\r",
      "  0%|          | 0/1 [00:00<?, ?it/s]"
     ]
    },
    {
     "name": "stdout",
     "output_type": "stream",
     "text": [
      "Loading dataset...\n"
     ]
    },
    {
     "name": "stderr",
     "output_type": "stream",
     "text": [
      "100%|██████████| 1/1 [00:00<00:00,  2.19it/s]\n"
     ]
    },
    {
     "name": "stdout",
     "output_type": "stream",
     "text": [
      "dataset has 26746 tokens\n",
      "Training...\n",
      "[1 | 159.10] loss=3.79 avg=3.79\n",
      "[2 | 447.06] loss=3.70 avg=3.74\n",
      "[3 | 629.46] loss=3.40 avg=3.63\n",
      "[4 | 813.39] loss=3.61 avg=3.63\n",
      "[5 | 973.52] loss=3.42 avg=3.58\n",
      "[6 | 1122.87] loss=3.48 avg=3.57\n",
      "[7 | 1242.63] loss=3.42 avg=3.54\n",
      "[8 | 1356.19] loss=3.08 avg=3.48\n",
      "[9 | 1472.53] loss=3.35 avg=3.47\n",
      "[10 | 1591.91] loss=3.26 avg=3.45\n",
      "[11 | 1706.57] loss=3.27 avg=3.43\n",
      "[12 | 1877.36] loss=3.22 avg=3.41\n",
      "[13 | 2102.13] loss=3.07 avg=3.38\n",
      "[14 | 2216.55] loss=3.00 avg=3.35\n",
      "[15 | 2360.42] loss=2.64 avg=3.30\n",
      "[16 | 2492.54] loss=2.99 avg=3.28\n",
      "[17 | 2604.44] loss=2.74 avg=3.25\n",
      "[18 | 2749.74] loss=2.98 avg=3.23\n",
      "[19 | 2863.50] loss=2.69 avg=3.20\n",
      "[20 | 3003.19] loss=2.98 avg=3.19\n",
      "[21 | 3134.97] loss=2.53 avg=3.15\n",
      "[22 | 3247.78] loss=2.70 avg=3.13\n",
      "[23 | 3356.90] loss=2.54 avg=3.10\n",
      "[24 | 3508.98] loss=2.93 avg=3.09\n",
      "[25 | 3624.62] loss=2.76 avg=3.08\n",
      "[26 | 3741.50] loss=2.41 avg=3.05\n",
      "[27 | 3861.82] loss=2.55 avg=3.03\n",
      "[28 | 3978.62] loss=2.42 avg=3.00\n",
      "[29 | 4092.19] loss=2.18 avg=2.97\n",
      "[30 | 6121.49] loss=2.56 avg=2.96\n",
      "[31 | 6358.34] loss=2.53 avg=2.94\n",
      "[32 | 7301.52] loss=2.51 avg=2.92\n"
     ]
    }
   ],
   "source": [
    "import gpt_2_simple as gpt2\n",
    "import os\n",
    "import requests\n",
    "\n",
    "model_name = \"124M\"\n",
    "if not os.path.isdir(os.path.join(\"models\", model_name)):\n",
    "\tprint(f\"Downloading {model_name} model...\")\n",
    "\tgpt2.download_gpt2(model_name=model_name)   # model is saved into current directory under /models/124M/\n",
    "\n",
    "\n",
    "file_name = \"foucault.txt\"\n",
    "if not os.path.isfile(file_name):\n",
    "\turl = \"https://raw.githubusercontent.com/karpathy/char-rnn/master/data/tinyshakespeare/input.txt\"\n",
    "\tdata = requests.get(url)\n",
    "\t\n",
    "\twith open(file_name, 'w') as f:\n",
    "\t\tf.write(data.text)\n",
    "    \n",
    "\n",
    "sess = gpt2.start_tf_sess()\n",
    "gpt2.finetune(sess,\n",
    "              file_name,\n",
    "              model_name=model_name,\n",
    "              steps=1000)   # steps is max number of training steps\n",
    "\n",
    "gpt2.generate(sess)"
   ]
  },
  {
   "cell_type": "code",
   "execution_count": null,
   "metadata": {},
   "outputs": [],
   "source": []
  }
 ],
 "metadata": {
  "kernelspec": {
   "display_name": "Django Shell-Plus",
   "language": "python",
   "name": "django_extensions"
  },
  "language_info": {
   "codemirror_mode": {
    "name": "ipython",
    "version": 3
   },
   "file_extension": ".py",
   "mimetype": "text/x-python",
   "name": "python",
   "nbconvert_exporter": "python",
   "pygments_lexer": "ipython3",
   "version": "3.7.6"
  }
 },
 "nbformat": 4,
 "nbformat_minor": 4
}
