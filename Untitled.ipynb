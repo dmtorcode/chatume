{
 "cells": [
  {
   "cell_type": "code",
   "execution_count": 1,
   "metadata": {},
   "outputs": [],
   "source": [
    "from transformers import (\n",
    "    pipeline,\n",
    "    GPT2LMHeadModel,\n",
    "    GPT2Tokenizer\n",
    ")\n",
    "\n",
    "class NLP:\n",
    "    def __init__(self):\n",
    "        self.gen_model = GPT2LMHeadModel.from_pretrained('./app/models/transformers/gen_model')\n",
    "        self.gen_tokenizer = GPT2Tokenizer.from_pretrained('./app/models/transformers/gen_tokenizer') \n",
    "         \n",
    "    def generate(self, PADDING_TEXT=\"...\", prompt=\"The epistemelogical limit\"):\n",
    "        \n",
    "        inputs = self.gen_tokenizer.encode(PADDING_TEXT + prompt, add_special_tokens=False, return_tensors=\"pt\")\n",
    "        prompt_length = len(self.gen_tokenizer.decode(inputs[0], skip_special_tokens=True, clean_up_tokenization_spaces=True))\n",
    "        outputs = self.gen_model.generate(inputs, max_length=200, do_sample=True, top_p=0.95, top_k=60)\n",
    "        generated = prompt + self.gen_tokenizer.decode(outputs[0])[prompt_length:]\n",
    "        return generated\n",
    "\n",
    "    def sentiments(self, text: str):\n",
    "        nlp = pipeline(\"sentiment-analysis\")\n",
    "        result = nlp(text)[0]\n",
    "        return f\"label: {result['label']}, with score: {round(result['score'], 4)}\""
   ]
  },
  {
   "cell_type": "code",
   "execution_count": 2,
   "metadata": {},
   "outputs": [],
   "source": [
    "nl = NLP()"
   ]
  },
  {
   "cell_type": "code",
   "execution_count": 3,
   "metadata": {},
   "outputs": [
    {
     "name": "stderr",
     "output_type": "stream",
     "text": [
      "Setting `pad_token_id` to 50256 (first `eos_token_id`) to generate sequence\n"
     ]
    },
    {
     "data": {
      "text/plain": [
       "'The epistemelogical limit of the law of reason\\n\\nTo this point I think you are correct that there is no law of reason in the sense that it comes from a law of reason. This may not quite be so much that it is true that reason lies in a continuum: It is impossible to know every conceivable situation or concept; yet there is no law of reason in the sense that it comes from a law of nature.\\n\\nThe rule which you make by saying that you are not able to understand everything is this:\\n\\nA law of nature\\n\\nthat is, a system of laws\\n\\nwhich I say is the norm and I believe.\\n\\nNow let us suppose that the law is not a law of nature and I would like to understand what it is and what I think it is. This may seem counter intuitive: If you take the example of my friend, my neighbor, and you ask him, \"Do you know what a law is?\" and'"
      ]
     },
     "execution_count": 3,
     "metadata": {},
     "output_type": "execute_result"
    }
   ],
   "source": [
    "nl.generate()"
   ]
  },
  {
   "cell_type": "code",
   "execution_count": null,
   "metadata": {},
   "outputs": [],
   "source": []
  }
 ],
 "metadata": {
  "kernelspec": {
   "display_name": "Python 3",
   "language": "python",
   "name": "python3"
  },
  "language_info": {
   "codemirror_mode": {
    "name": "ipython",
    "version": 3
   },
   "file_extension": ".py",
   "mimetype": "text/x-python",
   "name": "python",
   "nbconvert_exporter": "python",
   "pygments_lexer": "ipython3",
   "version": "3.7.8"
  }
 },
 "nbformat": 4,
 "nbformat_minor": 4
}
